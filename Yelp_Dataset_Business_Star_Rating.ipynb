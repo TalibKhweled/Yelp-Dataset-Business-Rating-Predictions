{
 "cells": [
  {
   "cell_type": "markdown",
   "metadata": {},
   "source": [
    "# Yelp Dataset Business Rating Prediction\n",
    "The motivation behind this project was to do semantic analysis on a minimum of 20 textual reviews per business. The model would only be exposed to the text data, as well as the overall rating of the business.\n",
    "\n",
    "The model is constructed using a TF-IDF vectorizer, and fed into an MLP \n"
   ]
  },
  {
   "cell_type": "markdown",
   "metadata": {},
   "source": [
    "### Initial Dataset Cleaning\n",
    "This stage is for handling the large yelp dataset, as it has an issue being loaded into a pandas dataframe directly from JSON format, we save as tsv file. Then we load tsv file into our pandas dataframe to clean the data, inspecting along the way"
   ]
  },
  {
   "cell_type": "code",
   "execution_count": 1,
   "metadata": {},
   "outputs": [],
   "source": [
    "# Imports for cleaning operations\n",
    "import time\n",
    "import json\n",
    "import csv\n",
    "import string\n",
    "import numpy as np\n",
    "import pandas as pd\n",
    "\n",
    "import tensorflow as tf\n",
    "from tensorflow.keras.models import Sequential\n",
    "from tensorflow.keras.layers import Dense, Dropout, Activation\n",
    "from tensorflow.keras.optimizers import Adadelta,Adam,RMSprop\n",
    "from tensorflow.keras.callbacks import EarlyStopping, ModelCheckpoint\n",
    "\n",
    "from sklearn import metrics\n",
    "from sklearn.model_selection import train_test_split, GridSearchCV\n",
    "from sklearn.feature_extraction.text import TfidfVectorizer\n",
    "\n",
    "import matplotlib.pyplot as plt\n",
    "import seaborn as sns\n",
    "%matplotlib inline\n",
    "\n",
    "# Regression chart.\n",
    "def chart_regression(pred,y,sort=True):\n",
    "    sns.set_theme()\n",
    "    plt.figure(figsize=(20,10))\n",
    "    t = pd.DataFrame({'pred' : pred, 'y' : y})\n",
    "    if sort:\n",
    "        t.sort_values(by=['y'],inplace=True)\n",
    "    a = plt.plot(t['pred'].tolist(),label='prediction')\n",
    "    b = plt.plot(t['y'].tolist(),label='expected')\n",
    "    plt.ylabel('output')\n",
    "    plt.legend()\n",
    "    plt.show()"
   ]
  },
  {
   "cell_type": "markdown",
   "metadata": {},
   "source": [
    "##### SAVING AS TSV FILE DO NOT RUN IF TSV FILE EXISTS"
   ]
  },
  {
   "cell_type": "code",
   "execution_count": null,
   "metadata": {
    "scrolled": true
   },
   "outputs": [],
   "source": [
    "# Only needed to run once\n",
    "outfile = open('review_stars.tsv', 'a')\n",
    "sfile = csv.writer(outfile, delimiter='\\t', quoting=csv.QUOTE_MINIMAL)\n",
    "sfile.writerow(['business_id','stars','text'])\n",
    "\n",
    "with open('data/yelp_academic_dataset_review.json', encoding='utf-8') as f:\n",
    "    for line in f:\n",
    "        row = json.loads(line)\n",
    "        sfile.writerow([row['business_id'], row['stars'], (row['text'].encode('utf-8'))])\n",
    "outfile.close()"
   ]
  },
  {
   "cell_type": "markdown",
   "metadata": {},
   "source": [
    "##### Read as csv, using tabs as delimiter\n",
    "The data is initially seen here, we only needed our stars, id, and review text columns "
   ]
  },
  {
   "cell_type": "code",
   "execution_count": 2,
   "metadata": {},
   "outputs": [
    {
     "data": {
      "text/html": [
       "<div>\n",
       "<style scoped>\n",
       "    .dataframe tbody tr th:only-of-type {\n",
       "        vertical-align: middle;\n",
       "    }\n",
       "\n",
       "    .dataframe tbody tr th {\n",
       "        vertical-align: top;\n",
       "    }\n",
       "\n",
       "    .dataframe thead th {\n",
       "        text-align: right;\n",
       "    }\n",
       "</style>\n",
       "<table border=\"1\" class=\"dataframe\">\n",
       "  <thead>\n",
       "    <tr style=\"text-align: right;\">\n",
       "      <th></th>\n",
       "      <th>business_id</th>\n",
       "      <th>stars</th>\n",
       "      <th>text</th>\n",
       "    </tr>\n",
       "  </thead>\n",
       "  <tbody>\n",
       "    <tr>\n",
       "      <th>0</th>\n",
       "      <td>-MhfebM0QIsKt87iDN-FNw</td>\n",
       "      <td>2.0</td>\n",
       "      <td>b'As someone who has worked with many museums,...</td>\n",
       "    </tr>\n",
       "    <tr>\n",
       "      <th>1</th>\n",
       "      <td>lbrU8StCq3yDfr-QMnGrmQ</td>\n",
       "      <td>1.0</td>\n",
       "      <td>b'I am actually horrified this place is still ...</td>\n",
       "    </tr>\n",
       "    <tr>\n",
       "      <th>2</th>\n",
       "      <td>HQl28KMwrEKHqhFrrDqVNQ</td>\n",
       "      <td>5.0</td>\n",
       "      <td>b\"I love Deagan's. I do. I really do. The atmo...</td>\n",
       "    </tr>\n",
       "    <tr>\n",
       "      <th>3</th>\n",
       "      <td>5JxlZaqCnk1MnbgRirs40Q</td>\n",
       "      <td>1.0</td>\n",
       "      <td>b'Dismal, lukewarm, defrosted-tasting \"TexMex\"...</td>\n",
       "    </tr>\n",
       "    <tr>\n",
       "      <th>4</th>\n",
       "      <td>IS4cv902ykd8wj1TR0N3-A</td>\n",
       "      <td>4.0</td>\n",
       "      <td>b'Oh happy day, finally have a Canes near my c...</td>\n",
       "    </tr>\n",
       "  </tbody>\n",
       "</table>\n",
       "</div>"
      ],
      "text/plain": [
       "              business_id  stars  \\\n",
       "0  -MhfebM0QIsKt87iDN-FNw    2.0   \n",
       "1  lbrU8StCq3yDfr-QMnGrmQ    1.0   \n",
       "2  HQl28KMwrEKHqhFrrDqVNQ    5.0   \n",
       "3  5JxlZaqCnk1MnbgRirs40Q    1.0   \n",
       "4  IS4cv902ykd8wj1TR0N3-A    4.0   \n",
       "\n",
       "                                                text  \n",
       "0  b'As someone who has worked with many museums,...  \n",
       "1  b'I am actually horrified this place is still ...  \n",
       "2  b\"I love Deagan's. I do. I really do. The atmo...  \n",
       "3  b'Dismal, lukewarm, defrosted-tasting \"TexMex\"...  \n",
       "4  b'Oh happy day, finally have a Canes near my c...  "
      ]
     },
     "execution_count": 2,
     "metadata": {},
     "output_type": "execute_result"
    }
   ],
   "source": [
    "# Load DataFrame\n",
    "df = pd.read_csv('review_stars.tsv', delimiter='\\t', encoding='utf-8')\n",
    "# Inspect DataFrame\n",
    "df.head()"
   ]
  },
  {
   "cell_type": "markdown",
   "metadata": {},
   "source": [
    "##### Merge reviews together\n",
    "Here we join all the reviews for each business together, turning a corpus of data into a single document. The idea here is that we want to make sure our model interprets the reviews as a whole, instead of considering each individual review. This is because we will predict the businesses' overall rating, as opposed to what each particular review's rating will be."
   ]
  },
  {
   "cell_type": "code",
   "execution_count": 3,
   "metadata": {},
   "outputs": [
    {
     "data": {
      "text/html": [
       "<div>\n",
       "<style scoped>\n",
       "    .dataframe tbody tr th:only-of-type {\n",
       "        vertical-align: middle;\n",
       "    }\n",
       "\n",
       "    .dataframe tbody tr th {\n",
       "        vertical-align: top;\n",
       "    }\n",
       "\n",
       "    .dataframe thead th {\n",
       "        text-align: right;\n",
       "    }\n",
       "</style>\n",
       "<table border=\"1\" class=\"dataframe\">\n",
       "  <thead>\n",
       "    <tr style=\"text-align: right;\">\n",
       "      <th></th>\n",
       "      <th>business_id</th>\n",
       "      <th>all_reviews</th>\n",
       "    </tr>\n",
       "  </thead>\n",
       "  <tbody>\n",
       "    <tr>\n",
       "      <th>0</th>\n",
       "      <td>--1UhMGODdWsrMastO9DZw</td>\n",
       "      <td>b'If you are looking for authentic Mexican str...</td>\n",
       "    </tr>\n",
       "    <tr>\n",
       "      <th>1</th>\n",
       "      <td>--6MefnULPED_I942VcFNA</td>\n",
       "      <td>b\"The bbq pork is very juicy and I only come h...</td>\n",
       "    </tr>\n",
       "    <tr>\n",
       "      <th>2</th>\n",
       "      <td>--7zmmkVg-IMGaXbuVd0SQ</td>\n",
       "      <td>b\"I'm a tad reluctant to write a review as I r...</td>\n",
       "    </tr>\n",
       "    <tr>\n",
       "      <th>3</th>\n",
       "      <td>--8LPVSo5i0Oo61X01sV9A</td>\n",
       "      <td>b'Dr. LaCognata is great.  He is a great liste...</td>\n",
       "    </tr>\n",
       "    <tr>\n",
       "      <th>4</th>\n",
       "      <td>--9QQLMTbFzLJ_oT-ON3Xw</td>\n",
       "      <td>b'Always great customer service. Affordable ha...</td>\n",
       "    </tr>\n",
       "  </tbody>\n",
       "</table>\n",
       "</div>"
      ],
      "text/plain": [
       "              business_id                                        all_reviews\n",
       "0  --1UhMGODdWsrMastO9DZw  b'If you are looking for authentic Mexican str...\n",
       "1  --6MefnULPED_I942VcFNA  b\"The bbq pork is very juicy and I only come h...\n",
       "2  --7zmmkVg-IMGaXbuVd0SQ  b\"I'm a tad reluctant to write a review as I r...\n",
       "3  --8LPVSo5i0Oo61X01sV9A  b'Dr. LaCognata is great.  He is a great liste...\n",
       "4  --9QQLMTbFzLJ_oT-ON3Xw  b'Always great customer service. Affordable ha..."
      ]
     },
     "execution_count": 3,
     "metadata": {},
     "output_type": "execute_result"
    }
   ],
   "source": [
    "df_review_agg = df.groupby('business_id')['text'].sum()\n",
    "df_merged_reviews = pd.DataFrame({'business_id':df_review_agg.index, \n",
    "                          'all_reviews':df_review_agg.values})\n",
    "df_merged_reviews.head()"
   ]
  },
  {
   "cell_type": "markdown",
   "metadata": {},
   "source": [
    "##### Load in business dataset\n",
    "We will use this for merging dataframes to filter out businesses with less than 20 reviews. "
   ]
  },
  {
   "cell_type": "code",
   "execution_count": 5,
   "metadata": {},
   "outputs": [
    {
     "data": {
      "text/plain": [
       "Index(['business_id', 'name', 'address', 'city', 'state', 'postal_code',\n",
       "       'latitude', 'longitude', 'stars', 'review_count', 'is_open',\n",
       "       'attributes', 'categories', 'hours'],\n",
       "      dtype='object')"
      ]
     },
     "execution_count": 5,
     "metadata": {},
     "output_type": "execute_result"
    }
   ],
   "source": [
    "# Load business DataFrame\n",
    "df_businesses = pd.read_json('data/yelp_academic_dataset_business.json',\n",
    "                             lines=True)\n",
    "df_businesses.columns"
   ]
  },
  {
   "cell_type": "code",
   "execution_count": 6,
   "metadata": {},
   "outputs": [],
   "source": [
    "# Filter business review count and stars\n",
    "df_businesses = df_businesses[['business_id', 'review_count', 'stars']]\n",
    "\n",
    "# Merge dataframes\n",
    "df_merged_reviews = pd.merge(df_merged_reviews, df_businesses, on='business_id')\n",
    "\n",
    "# Filter all businesses with less than 20 reviews\n",
    "df_merged_reviews = df_merged_reviews[df_merged_reviews['review_count'] >= 20]"
   ]
  },
  {
   "cell_type": "code",
   "execution_count": 7,
   "metadata": {},
   "outputs": [
    {
     "data": {
      "text/html": [
       "<div>\n",
       "<style scoped>\n",
       "    .dataframe tbody tr th:only-of-type {\n",
       "        vertical-align: middle;\n",
       "    }\n",
       "\n",
       "    .dataframe tbody tr th {\n",
       "        vertical-align: top;\n",
       "    }\n",
       "\n",
       "    .dataframe thead th {\n",
       "        text-align: right;\n",
       "    }\n",
       "</style>\n",
       "<table border=\"1\" class=\"dataframe\">\n",
       "  <thead>\n",
       "    <tr style=\"text-align: right;\">\n",
       "      <th></th>\n",
       "      <th>business_id</th>\n",
       "      <th>all_reviews</th>\n",
       "      <th>review_count</th>\n",
       "      <th>stars</th>\n",
       "    </tr>\n",
       "  </thead>\n",
       "  <tbody>\n",
       "    <tr>\n",
       "      <th>0</th>\n",
       "      <td>--1UhMGODdWsrMastO9DZw</td>\n",
       "      <td>b'If you are looking for authentic Mexican str...</td>\n",
       "      <td>27</td>\n",
       "      <td>4.0</td>\n",
       "    </tr>\n",
       "    <tr>\n",
       "      <th>1</th>\n",
       "      <td>--6MefnULPED_I942VcFNA</td>\n",
       "      <td>b\"The bbq pork is very juicy and I only come h...</td>\n",
       "      <td>55</td>\n",
       "      <td>3.0</td>\n",
       "    </tr>\n",
       "    <tr>\n",
       "      <th>2</th>\n",
       "      <td>--7zmmkVg-IMGaXbuVd0SQ</td>\n",
       "      <td>b\"I'm a tad reluctant to write a review as I r...</td>\n",
       "      <td>65</td>\n",
       "      <td>4.0</td>\n",
       "    </tr>\n",
       "    <tr>\n",
       "      <th>5</th>\n",
       "      <td>--9e1ONYQuAa-CB_Rrw7Tw</td>\n",
       "      <td>b\"On yelp 5 stars = Woohoo! as good as it gets...</td>\n",
       "      <td>1759</td>\n",
       "      <td>4.0</td>\n",
       "    </tr>\n",
       "    <tr>\n",
       "      <th>6</th>\n",
       "      <td>--DaPTJW3-tB1vP-PfdTEg</td>\n",
       "      <td>b\"I used to come to this restaurant about two ...</td>\n",
       "      <td>51</td>\n",
       "      <td>4.0</td>\n",
       "    </tr>\n",
       "  </tbody>\n",
       "</table>\n",
       "</div>"
      ],
      "text/plain": [
       "              business_id                                        all_reviews  \\\n",
       "0  --1UhMGODdWsrMastO9DZw  b'If you are looking for authentic Mexican str...   \n",
       "1  --6MefnULPED_I942VcFNA  b\"The bbq pork is very juicy and I only come h...   \n",
       "2  --7zmmkVg-IMGaXbuVd0SQ  b\"I'm a tad reluctant to write a review as I r...   \n",
       "5  --9e1ONYQuAa-CB_Rrw7Tw  b\"On yelp 5 stars = Woohoo! as good as it gets...   \n",
       "6  --DaPTJW3-tB1vP-PfdTEg  b\"I used to come to this restaurant about two ...   \n",
       "\n",
       "   review_count  stars  \n",
       "0            27    4.0  \n",
       "1            55    3.0  \n",
       "2            65    4.0  \n",
       "5          1759    4.0  \n",
       "6            51    4.0  "
      ]
     },
     "execution_count": 7,
     "metadata": {},
     "output_type": "execute_result"
    }
   ],
   "source": [
    "df_merged_reviews.head()"
   ]
  },
  {
   "cell_type": "code",
   "execution_count": 8,
   "metadata": {
    "scrolled": true
   },
   "outputs": [
    {
     "data": {
      "text/html": [
       "<div>\n",
       "<style scoped>\n",
       "    .dataframe tbody tr th:only-of-type {\n",
       "        vertical-align: middle;\n",
       "    }\n",
       "\n",
       "    .dataframe tbody tr th {\n",
       "        vertical-align: top;\n",
       "    }\n",
       "\n",
       "    .dataframe thead th {\n",
       "        text-align: right;\n",
       "    }\n",
       "</style>\n",
       "<table border=\"1\" class=\"dataframe\">\n",
       "  <thead>\n",
       "    <tr style=\"text-align: right;\">\n",
       "      <th></th>\n",
       "      <th>business_id</th>\n",
       "      <th>all_reviews</th>\n",
       "      <th>stars</th>\n",
       "    </tr>\n",
       "  </thead>\n",
       "  <tbody>\n",
       "    <tr>\n",
       "      <th>0</th>\n",
       "      <td>--1UhMGODdWsrMastO9DZw</td>\n",
       "      <td>b'If you are looking for authentic Mexican str...</td>\n",
       "      <td>4.0</td>\n",
       "    </tr>\n",
       "    <tr>\n",
       "      <th>1</th>\n",
       "      <td>--6MefnULPED_I942VcFNA</td>\n",
       "      <td>b\"The bbq pork is very juicy and I only come h...</td>\n",
       "      <td>3.0</td>\n",
       "    </tr>\n",
       "    <tr>\n",
       "      <th>2</th>\n",
       "      <td>--7zmmkVg-IMGaXbuVd0SQ</td>\n",
       "      <td>b\"I'm a tad reluctant to write a review as I r...</td>\n",
       "      <td>4.0</td>\n",
       "    </tr>\n",
       "    <tr>\n",
       "      <th>5</th>\n",
       "      <td>--9e1ONYQuAa-CB_Rrw7Tw</td>\n",
       "      <td>b\"On yelp 5 stars = Woohoo! as good as it gets...</td>\n",
       "      <td>4.0</td>\n",
       "    </tr>\n",
       "    <tr>\n",
       "      <th>6</th>\n",
       "      <td>--DaPTJW3-tB1vP-PfdTEg</td>\n",
       "      <td>b\"I used to come to this restaurant about two ...</td>\n",
       "      <td>4.0</td>\n",
       "    </tr>\n",
       "  </tbody>\n",
       "</table>\n",
       "</div>"
      ],
      "text/plain": [
       "              business_id                                        all_reviews  \\\n",
       "0  --1UhMGODdWsrMastO9DZw  b'If you are looking for authentic Mexican str...   \n",
       "1  --6MefnULPED_I942VcFNA  b\"The bbq pork is very juicy and I only come h...   \n",
       "2  --7zmmkVg-IMGaXbuVd0SQ  b\"I'm a tad reluctant to write a review as I r...   \n",
       "5  --9e1ONYQuAa-CB_Rrw7Tw  b\"On yelp 5 stars = Woohoo! as good as it gets...   \n",
       "6  --DaPTJW3-tB1vP-PfdTEg  b\"I used to come to this restaurant about two ...   \n",
       "\n",
       "   stars  \n",
       "0    4.0  \n",
       "1    3.0  \n",
       "2    4.0  \n",
       "5    4.0  \n",
       "6    4.0  "
      ]
     },
     "execution_count": 8,
     "metadata": {},
     "output_type": "execute_result"
    }
   ],
   "source": [
    "df_ = df_merged_reviews.drop(['review_count'], axis=1)\n",
    "df_clean.head()"
   ]
  },
  {
   "cell_type": "code",
   "execution_count": null,
   "metadata": {},
   "outputs": [],
   "source": [
    "# Only needed to run once\n",
    "# DO NOT RUN CELL IF FILE EXISTS\n",
    "df_clean.to_pickle('data/yelp_reviews_clean.pkl')"
   ]
  },
  {
   "cell_type": "markdown",
   "metadata": {},
   "source": [
    "## Dataset Setup\n"
   ]
  },
  {
   "cell_type": "markdown",
   "metadata": {},
   "source": [
    "### Run the TF-IDF Vectorizer\n",
    "Here we use chunk processing on the csv file in order to avoid crashing the kernel, and to save memory\n",
    "\n",
    "**This is a preprocessing step, and is only needed to run once**"
   ]
  },
  {
   "cell_type": "code",
   "execution_count": null,
   "metadata": {},
   "outputs": [],
   "source": [
    "def chunk_generator():\n",
    "    for chunk in pd.read_csv('data/yelp_reviews_clean.csv', chunksize=100):\n",
    "        for doc in chunk['all_reviews'].values:\n",
    "            yield doc\n",
    "\n",
    "corpus = chunk_generator()\n",
    "vectorizer = TfidfVectorizer(stop_words='english',min_df=2, max_features=10000, norm='l2')\n",
    "\n",
    "X = vectorizer.fit_transform(corpus)\n",
    "\n",
    "# Save as pickle for faster load times\n",
    "np.save('data/corpus.pkl', arr=X, allow_pickle=True)"
   ]
  },
  {
   "cell_type": "markdown",
   "metadata": {},
   "source": [
    "### Load Vectorized Matrix\n",
    "**Needs to be run after every startup**"
   ]
  },
  {
   "cell_type": "code",
   "execution_count": 2,
   "metadata": {},
   "outputs": [],
   "source": [
    "df = pd.read_csv('data/yelp_reviews_clean.csv')"
   ]
  },
  {
   "cell_type": "code",
   "execution_count": 3,
   "metadata": {},
   "outputs": [],
   "source": [
    "X = np.load('data/corpus.pkl.npy')"
   ]
  },
  {
   "cell_type": "markdown",
   "metadata": {},
   "source": [
    "### Split Data Into Training and Testing Sets\n",
    "Training to testing data ratio of 4:1"
   ]
  },
  {
   "cell_type": "code",
   "execution_count": 4,
   "metadata": {},
   "outputs": [],
   "source": [
    "X_train_v, X_test_v, y_train, y_test = train_test_split(X, df['stars'], test_size=0.2, random_state=42)"
   ]
  },
  {
   "cell_type": "markdown",
   "metadata": {},
   "source": [
    "## Model Construction and Training"
   ]
  },
  {
   "cell_type": "markdown",
   "metadata": {},
   "source": [
    "Separate library used for monitoring."
   ]
  },
  {
   "cell_type": "code",
   "execution_count": 10,
   "metadata": {},
   "outputs": [
    {
     "data": {
      "text/html": [
       "\n",
       "                Tracking run with wandb version 0.10.4<br/>\n",
       "                Syncing run <strong style=\"color:#cdcd00\">kind-paper-53</strong> to <a href=\"https://wandb.ai\" target=\"_blank\">Weights & Biases</a> <a href=\"https://docs.wandb.com/integrations/jupyter.html\" target=\"_blank\">(Documentation)</a>.<br/>\n",
       "                Project page: <a href=\"https://wandb.ai/talib/Project1\" target=\"_blank\">https://wandb.ai/talib/Project1</a><br/>\n",
       "                Run page: <a href=\"https://wandb.ai/talib/Project1/runs/21yjaclr\" target=\"_blank\">https://wandb.ai/talib/Project1/runs/21yjaclr</a><br/>\n",
       "                Run data is saved locally in <code>wandb/run-20201002_061839-21yjaclr</code><br/><br/>\n",
       "            "
      ],
      "text/plain": [
       "<IPython.core.display.HTML object>"
      ]
     },
     "metadata": {},
     "output_type": "display_data"
    }
   ],
   "source": [
    "import wandb\n",
    "from wandb.keras import WandbCallback\n",
    "\n",
    "run = wandb.init(project='Project1',\n",
    "           config={\n",
    "            \"hyper\": \"parameter\"\n",
    "            })"
   ]
  },
  {
   "cell_type": "code",
   "execution_count": 6,
   "metadata": {},
   "outputs": [],
   "source": [
    "batch_size = 64\n",
    "epochs = 100"
   ]
  },
  {
   "cell_type": "code",
   "execution_count": 7,
   "metadata": {},
   "outputs": [
    {
     "name": "stdout",
     "output_type": "stream",
     "text": [
      "Model: \"sequential\"\n",
      "_________________________________________________________________\n",
      "Layer (type)                 Output Shape              Param #   \n",
      "=================================================================\n",
      "dense (Dense)                (None, 1000)              10001000  \n",
      "_________________________________________________________________\n",
      "activation (Activation)      (None, 1000)              0         \n",
      "_________________________________________________________________\n",
      "dense_1 (Dense)              (None, 500)               500500    \n",
      "_________________________________________________________________\n",
      "activation_1 (Activation)    (None, 500)               0         \n",
      "_________________________________________________________________\n",
      "dropout (Dropout)            (None, 500)               0         \n",
      "_________________________________________________________________\n",
      "dense_2 (Dense)              (None, 50)                25050     \n",
      "_________________________________________________________________\n",
      "activation_2 (Activation)    (None, 50)                0         \n",
      "_________________________________________________________________\n",
      "dropout_1 (Dropout)          (None, 50)                0         \n",
      "_________________________________________________________________\n",
      "dense_3 (Dense)              (None, 1)                 51        \n",
      "_________________________________________________________________\n",
      "activation_3 (Activation)    (None, 1)                 0         \n",
      "=================================================================\n",
      "Total params: 10,526,601\n",
      "Trainable params: 10,526,601\n",
      "Non-trainable params: 0\n",
      "_________________________________________________________________\n",
      "None\n"
     ]
    }
   ],
   "source": [
    "# Model construction\n",
    "\n",
    "model = Sequential()\n",
    "\n",
    "model.add(Dense(1000, input_shape=(10000,)))\n",
    "model.add(Activation('relu'))\n",
    "\n",
    "model.add(Dense(500))\n",
    "model.add(Activation('relu'))\n",
    "model.add(Dropout(0.2))\n",
    "\n",
    "model.add(Dense(50))\n",
    "model.add(Activation('relu'))\n",
    "model.add(Dropout(0.5))\n",
    "\n",
    "model.add(Dense(1))\n",
    "model.add(Activation('relu'))\n",
    "model.compile(loss='mean_squared_error', optimizer='adam')\n",
    "\n",
    "print (model.summary())"
   ]
  },
  {
   "cell_type": "markdown",
   "metadata": {},
   "source": [
    "#### wandb\n",
    "*This is a monitoring software I used called Weights and Biases, an alternative to tensorboard*\n",
    "\n",
    "This specific set of graphs is the last training cycle I did to try to get the lowest loss possible"
   ]
  },
  {
   "cell_type": "code",
   "execution_count": 11,
   "metadata": {},
   "outputs": [
    {
     "data": {
      "text/html": [
       "<iframe src=\"https://wandb.ai/talib/Project1/runs/21yjaclr?jupyter=true\" style=\"border:none;width:100%;height:420px\">\n",
       "                </iframe>"
      ],
      "text/plain": [
       "<wandb.jupyter.Run at 0x7f6a3c3a3ed0>"
      ]
     },
     "metadata": {},
     "output_type": "display_data"
    }
   ],
   "source": [
    "%wandb"
   ]
  },
  {
   "cell_type": "markdown",
   "metadata": {},
   "source": [
    "### Begin Training"
   ]
  },
  {
   "cell_type": "code",
   "execution_count": 12,
   "metadata": {
    "scrolled": false
   },
   "outputs": [
    {
     "name": "stdout",
     "output_type": "stream",
     "text": [
      "Epoch 1/100\n",
      "\n",
      "Epoch 00001: val_loss improved from inf to 0.03128, saving model to best_weights.hdf5\n",
      "827/827 - 5s - loss: 0.0476 - val_loss: 0.0313\n",
      "Epoch 2/100\n",
      "\n",
      "Epoch 00002: val_loss improved from 0.03128 to 0.02834, saving model to best_weights.hdf5\n",
      "827/827 - 5s - loss: 0.0453 - val_loss: 0.0283\n",
      "Epoch 3/100\n",
      "\n",
      "Epoch 00003: val_loss improved from 0.02834 to 0.02771, saving model to best_weights.hdf5\n",
      "827/827 - 5s - loss: 0.0441 - val_loss: 0.0277\n",
      "Epoch 4/100\n",
      "\n",
      "Epoch 00004: val_loss did not improve from 0.02771\n",
      "827/827 - 4s - loss: 0.0425 - val_loss: 0.0289\n",
      "Epoch 5/100\n",
      "\n",
      "Epoch 00005: val_loss did not improve from 0.02771\n",
      "827/827 - 4s - loss: 0.0421 - val_loss: 0.0305\n",
      "Epoch 6/100\n",
      "\n",
      "Epoch 00006: val_loss did not improve from 0.02771\n",
      "827/827 - 4s - loss: 0.0418 - val_loss: 0.0284\n",
      "Epoch 7/100\n",
      "\n",
      "Epoch 00007: val_loss did not improve from 0.02771\n",
      "827/827 - 4s - loss: 0.0436 - val_loss: 0.0321\n",
      "Epoch 8/100\n",
      "\n",
      "Epoch 00008: val_loss did not improve from 0.02771\n",
      "827/827 - 4s - loss: 0.0428 - val_loss: 0.0306\n",
      "Epoch 9/100\n",
      "\n",
      "Epoch 00009: val_loss improved from 0.02771 to 0.02712, saving model to best_weights.hdf5\n",
      "827/827 - 5s - loss: 0.0423 - val_loss: 0.0271\n",
      "Epoch 10/100\n",
      "\n",
      "Epoch 00010: val_loss did not improve from 0.02712\n",
      "827/827 - 4s - loss: 0.0421 - val_loss: 0.0322\n",
      "Epoch 11/100\n",
      "\n",
      "Epoch 00011: val_loss did not improve from 0.02712\n",
      "827/827 - 4s - loss: 0.0416 - val_loss: 0.0307\n",
      "Epoch 12/100\n",
      "\n",
      "Epoch 00012: val_loss did not improve from 0.02712\n",
      "827/827 - 4s - loss: 0.0415 - val_loss: 0.0298\n",
      "Epoch 13/100\n",
      "\n",
      "Epoch 00013: val_loss did not improve from 0.02712\n",
      "827/827 - 4s - loss: 0.0416 - val_loss: 0.0333\n",
      "Epoch 14/100\n",
      "\n",
      "Epoch 00014: val_loss did not improve from 0.02712\n",
      "827/827 - 4s - loss: 0.0421 - val_loss: 0.0307\n",
      "Epoch 15/100\n",
      "\n",
      "Epoch 00015: val_loss did not improve from 0.02712\n",
      "827/827 - 4s - loss: 0.0418 - val_loss: 0.0304\n",
      "Epoch 16/100\n",
      "\n",
      "Epoch 00016: val_loss did not improve from 0.02712\n",
      "827/827 - 4s - loss: 0.0410 - val_loss: 0.0303\n",
      "Epoch 17/100\n",
      "\n",
      "Epoch 00017: val_loss did not improve from 0.02712\n",
      "827/827 - 4s - loss: 0.0413 - val_loss: 0.0310\n",
      "Epoch 18/100\n",
      "\n",
      "Epoch 00018: val_loss did not improve from 0.02712\n",
      "827/827 - 4s - loss: 0.0412 - val_loss: 0.0319\n",
      "Epoch 19/100\n",
      "\n",
      "Epoch 00019: val_loss did not improve from 0.02712\n",
      "827/827 - 4s - loss: 0.0414 - val_loss: 0.0314\n",
      "Epoch 20/100\n",
      "\n",
      "Epoch 00020: val_loss did not improve from 0.02712\n",
      "827/827 - 4s - loss: 0.0415 - val_loss: 0.0376\n",
      "Epoch 21/100\n",
      "\n",
      "Epoch 00021: val_loss did not improve from 0.02712\n",
      "827/827 - 4s - loss: 0.0418 - val_loss: 0.0303\n",
      "Epoch 22/100\n",
      "\n",
      "Epoch 00022: val_loss did not improve from 0.02712\n",
      "827/827 - 4s - loss: 0.0405 - val_loss: 0.0349\n",
      "Epoch 23/100\n",
      "\n",
      "Epoch 00023: val_loss did not improve from 0.02712\n",
      "827/827 - 4s - loss: 0.0408 - val_loss: 0.0346\n",
      "Epoch 24/100\n",
      "\n",
      "Epoch 00024: val_loss did not improve from 0.02712\n",
      "827/827 - 4s - loss: 0.0418 - val_loss: 0.0340\n",
      "Epoch 25/100\n",
      "\n",
      "Epoch 00025: val_loss did not improve from 0.02712\n",
      "827/827 - 4s - loss: 0.0403 - val_loss: 0.0349\n",
      "Epoch 26/100\n",
      "\n",
      "Epoch 00026: val_loss did not improve from 0.02712\n",
      "827/827 - 4s - loss: 0.0412 - val_loss: 0.0391\n",
      "Epoch 27/100\n",
      "\n",
      "Epoch 00027: val_loss did not improve from 0.02712\n",
      "827/827 - 4s - loss: 0.0413 - val_loss: 0.0340\n",
      "Epoch 28/100\n",
      "\n",
      "Epoch 00028: val_loss did not improve from 0.02712\n",
      "827/827 - 4s - loss: 0.0408 - val_loss: 0.0355\n",
      "Epoch 29/100\n",
      "\n",
      "Epoch 00029: val_loss did not improve from 0.02712\n",
      "827/827 - 4s - loss: 0.0407 - val_loss: 0.0331\n",
      "Epoch 00029: early stopping\n"
     ]
    },
    {
     "data": {
      "text/html": [
       "<br/>Waiting for W&B process to finish, PID 14557<br/>Program ended successfully."
      ],
      "text/plain": [
       "<IPython.core.display.HTML object>"
      ]
     },
     "metadata": {},
     "output_type": "display_data"
    },
    {
     "name": "stderr",
     "output_type": "stream",
     "text": [
      "\u001b[34m\u001b[1mwandb\u001b[0m: \u001b[32m\u001b[41mERROR\u001b[0m Control-C detected -- Run data was not synced\n"
     ]
    }
   ],
   "source": [
    "# Uncomment to use best weights from my training cycle\n",
    "#model.load_weights('best_weights.hdf5')\n",
    "\n",
    "monitor = EarlyStopping(monitor='val_loss', min_delta=1e-4, patience=20, verbose=2, mode='auto')\n",
    "\n",
    "checkpointer = ModelCheckpoint(filepath=\"new_weights.hdf5\", verbose=1, save_best_only=True)\n",
    "\n",
    "model.fit(X_train_v, y_train, batch_size=batch_size,\n",
    "          validation_data=(X_test_v, y_test),\n",
    "          callbacks=[WandbCallback(), monitor, checkpointer],\n",
    "          epochs=epochs, verbose=2)\n",
    "\n",
    "# Re-load best weights to evaluate RMSE and lift chart\n",
    "model.load_weights('new_weights.hdf5')\n",
    "\n",
    "# Uncomment to use weights from my best model\n",
    "#model.load_weights('best_weights.hdf5')\n",
    "\n",
    "# This is to stop the monitoring tool\n",
    "run.finish()"
   ]
  },
  {
   "cell_type": "code",
   "execution_count": 66,
   "metadata": {},
   "outputs": [
    {
     "name": "stdout",
     "output_type": "stream",
     "text": [
      "(test) Score (RMSE): 0.15592157119225086\n"
     ]
    },
    {
     "data": {
      "image/png": "[encoded data removed]",
      "text/plain": [
       "<Figure size 1440x720 with 1 Axes>"
      ]
     },
     "metadata": {},
     "output_type": "display_data"
    },
    {
     "name": "stdout",
     "output_type": "stream",
     "text": [
      "(train) Score (RMSE): 0.08353223113931162\n"
     ]
    },
    {
     "data": {
      "image/png": "[encoded data removed]",
      "text/plain": [
       "<Figure size 1440x720 with 1 Axes>"
      ]
     },
     "metadata": {},
     "output_type": "display_data"
    }
   ],
   "source": [
    "# Load best weights to try to get validation loss as low as possible.\n",
    "model.load_weights('best_weights.hdf5')\n",
    "\n",
    "# Make predictions\n",
    "train_preds = model.predict(X_train_v)\n",
    "test_preds = model.predict(X_test_v)\n",
    "\n",
    "# RMSE for testing data + lift chart\n",
    "score = np.sqrt(metrics.mean_squared_error(test_preds,y_test))\n",
    "print(\"(test) Score (RMSE): {}\".format(score))\n",
    "# Plot the chart\n",
    "chart_regression(test_preds.flatten(),y_test, sort=True)\n",
    "\n",
    "# RMSE for training data + lift chart\n",
    "score = np.sqrt(metrics.mean_squared_error(train_preds,y_train))\n",
    "print(\"(train) Score (RMSE): {}\".format(score))\n",
    "chart_regression(train_preds.flatten(),y_train, sort=True)"
   ]
  },
  {
   "cell_type": "markdown",
   "metadata": {},
   "source": [
    "### Confusion Matrix \n",
    "I put this here to better represent the predicted values the model represents, as the predictions must be rounded to the nearest rating class."
   ]
  },
  {
   "cell_type": "code",
   "execution_count": 77,
   "metadata": {},
   "outputs": [
    {
     "data": {
      "text/plain": [
       "<AxesSubplot:>"
      ]
     },
     "execution_count": 77,
     "metadata": {},
     "output_type": "execute_result"
    },
    {
     "data": {
      "image/png": "[encoded data removed]",
      "text/plain": [
       "<Figure size 1440x720 with 2 Axes>"
      ]
     },
     "metadata": {},
     "output_type": "display_data"
    }
   ],
   "source": [
    "def round_preds(preds):\n",
    "    def round_single_pred(pred):\n",
    "        stars = list(np.linspace(1.0, 5.0, 9))\n",
    "        return min(stars, key=lambda x: abs(x-pred))\n",
    "                   \n",
    "    result = np.apply_along_axis(round_single_pred, 1, preds)\n",
    "    return result\n",
    "                   \n",
    "rounded_preds = round_preds(test_preds)\n",
    "\n",
    "\n",
    "categories = list(np.linspace(1.0, 5.0, 9))\n",
    "cfm = metrics.confusion_matrix(rounded_preds.astype(str), y_test.astype(str))\n",
    "plt.figure(figsize=(20,10))\n",
    "sns.heatmap(cfm,cmap=sns.color_palette(\"mako\", as_cmap=True), annot=True,fmt='',\n",
    "           xticklabels=categories,yticklabels=categories)"
   ]
  },
  {
   "cell_type": "markdown",
   "metadata": {},
   "source": [
    "## Examples from Dataset\n",
    "Here I picked out 5 businesses from the dataset, which included: Taco bell, Burger King, Target, Gamestop, and Red Lobster"
   ]
  },
  {
   "cell_type": "code",
   "execution_count": 39,
   "metadata": {},
   "outputs": [],
   "source": [
    "businesses = ['Taco Bell, Las Vegas NV', 'Burger King, Charlotte NC', 'Red Lobster, Toronto ON',\n",
    "              'Target, Glendale AZ', 'Gamestop, Las Vegas NV']\n",
    "\n",
    "examples = pd.read_pickle('data/examples.pkl')"
   ]
  },
  {
   "cell_type": "code",
   "execution_count": 16,
   "metadata": {},
   "outputs": [],
   "source": [
    "Y_examples = examples['stars']\n",
    "X_examples = vectorizer.transform(examples['all_reviews']).todense()"
   ]
  },
  {
   "cell_type": "code",
   "execution_count": 19,
   "metadata": {},
   "outputs": [],
   "source": [
    "model.load_weights('best_weights.hdf5')\n",
    "\n",
    "example_preds = model.predict(X_examples)"
   ]
  },
  {
   "cell_type": "code",
   "execution_count": 47,
   "metadata": {},
   "outputs": [
    {
     "name": "stdout",
     "output_type": "stream",
     "text": [
      "|Business                 |Predicted      |Actual \n",
      "-------------------------------------------------\n",
      "|Taco Bell, Las Vegas NV  |[4.022132]     |4.0    \n",
      "|Burger King, Charlotte NC|[1.144464]     |1.0    \n",
      "|Red Lobster, Toronto ON  |[4.915038]     |5.0    \n",
      "|Target, Glendale AZ      |[3.0416842]    |3.0    \n",
      "|Gamestop, Las Vegas NV   |[4.0290184]    |4.0    \n"
     ]
    }
   ],
   "source": [
    "print(\"|{:25s}|{:15s}|{:7s}\".format(\"Business\", \"Predicted\", \"Actual\"))\n",
    "print(\"-------------------------------------------------\")\n",
    "for i in range(5):\n",
    "    print(\"|{:25s}|{:15s}|{:7s}\".format(businesses[i], str(example_preds[i]), str(Y_examples[i])))"
   ]
  },
  {
   "cell_type": "code",
   "execution_count": null,
   "metadata": {},
   "outputs": [],
   "source": []
  }
 ],
 "metadata": {
  "kernelspec": {
   "display_name": "CSC_180",
   "language": "python",
   "name": "csc_180"
  },
  "language_info": {
   "codemirror_mode": {
    "name": "ipython",
    "version": 3
   },
   "file_extension": ".py",
   "mimetype": "text/x-python",
   "name": "python",
   "nbconvert_exporter": "python",
   "pygments_lexer": "ipython3",
   "version": "3.7.9"
  }
 },
 "nbformat": 4,
 "nbformat_minor": 4
}
